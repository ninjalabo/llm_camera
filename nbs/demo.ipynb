{
 "cells": [
  {
   "cell_type": "code",
   "execution_count": null,
   "id": "221e1db4-7351-48fd-8b1f-39d7ca8589cf",
   "metadata": {},
   "outputs": [
    {
     "name": "stdout",
     "output_type": "stream",
     "text": [
      "Requirement already satisfied: llm_camera in /home/doyu/miniconda3/lib/python3.12/site-packages (0.0.1)\n"
     ]
    }
   ],
   "source": [
    "!pip install -U llm_camera"
   ]
  },
  {
   "cell_type": "code",
   "execution_count": null,
   "id": "82eb203e-0d31-4036-a660-67e98b628ecf",
   "metadata": {},
   "outputs": [
    {
     "ename": "ModuleNotFoundError",
     "evalue": "No module named 'llm_camera'",
     "output_type": "error",
     "traceback": [
      "\u001b[0;31m---------------------------------------------------------------------------\u001b[0m",
      "\u001b[0;31mModuleNotFoundError\u001b[0m                       Traceback (most recent call last)",
      "Cell \u001b[0;32mIn[11], line 1\u001b[0m\n\u001b[0;32m----> 1\u001b[0m \u001b[38;5;28;01mimport\u001b[39;00m \u001b[38;5;21;01mllm_camera\u001b[39;00m\u001b[38;5;21;01m.\u001b[39;00m\u001b[38;5;21;01mcapture_youtube_live\u001b[39;00m\n",
      "\u001b[0;31mModuleNotFoundError\u001b[0m: No module named 'llm_camera'"
     ]
    }
   ],
   "source": [
    "import llm_camera.capture_youtube_live"
   ]
  },
  {
   "cell_type": "code",
   "execution_count": null,
   "id": "b530d124-385b-46af-a2a4-9073e4179e55",
   "metadata": {},
   "outputs": [],
   "source": []
  }
 ],
 "metadata": {
  "kernelspec": {
   "display_name": "python3",
   "language": "python",
   "name": "python3"
  }
 },
 "nbformat": 4,
 "nbformat_minor": 5
}
