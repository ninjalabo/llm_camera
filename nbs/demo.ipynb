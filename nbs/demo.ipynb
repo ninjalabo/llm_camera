{
 "cells": [
  {
   "cell_type": "code",
   "execution_count": null,
   "id": "82eb203e-0d31-4036-a660-67e98b628ecf",
   "metadata": {},
   "outputs": [],
   "source": [
    "import llm_camera.capture_youtube_live"
   ]
  },
  {
   "cell_type": "code",
   "execution_count": null,
   "id": "b530d124-385b-46af-a2a4-9073e4179e55",
   "metadata": {},
   "outputs": [],
   "source": []
  }
 ],
 "metadata": {
  "kernelspec": {
   "display_name": "python3",
   "language": "python",
   "name": "python3"
  }
 },
 "nbformat": 4,
 "nbformat_minor": 5
}
