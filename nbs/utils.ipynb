{
 "cells": [
  {
   "cell_type": "code",
   "execution_count": null,
   "id": "4ee24549-3454-43aa-af8f-f8e8dadb41ee",
   "metadata": {},
   "outputs": [],
   "source": [
    "#| default_exp utils"
   ]
  },
  {
   "cell_type": "code",
   "execution_count": null,
   "id": "161c3a02-d865-4e0d-9714-9038f59ad17a",
   "metadata": {},
   "outputs": [],
   "source": [
    "#| export\n",
    "import os\n",
    "import shutil\n",
    "import glob\n",
    "from pathlib import Path\n",
    "from PIL import Image"
   ]
  },
  {
   "cell_type": "markdown",
   "id": "488511ab-02e0-41f5-bfbc-f88837385e25",
   "metadata": {},
   "source": [
    "emulate the following\n",
    "```bash\n",
    "touch a.txt\n",
    "```"
   ]
  },
  {
   "cell_type": "code",
   "execution_count": null,
   "id": "5005c3ef-f795-4ae2-92a6-38a172d60cb5",
   "metadata": {},
   "outputs": [],
   "source": [
    "open('a.txt', 'a').close()  # This will create the file if it doesn't exist\n",
    "assert Path('a.txt').exists()==True"
   ]
  },
  {
   "cell_type": "markdown",
   "id": "7868e300-fcb1-4b0b-b497-ac97dfd03907",
   "metadata": {},
   "source": [
    "emulate the following\n",
    "```bash\n",
    "mkdir -p <dir name>\n",
    "```"
   ]
  },
  {
   "cell_type": "code",
   "execution_count": null,
   "id": "50f1a6aa-67a0-4984-9c09-bda523189db5",
   "metadata": {},
   "outputs": [],
   "source": [
    "os.makedirs('../data/trash', exist_ok=True)\n",
    "assert Path('../data/trash').exists()==True"
   ]
  },
  {
   "cell_type": "markdown",
   "id": "8588eaab-d6e0-4cb9-9eea-3bcae8ff89d6",
   "metadata": {},
   "source": [
    "emulate the following\n",
    "```sh\n",
    "mv a.txt /tmp\n",
    "```"
   ]
  },
  {
   "cell_type": "code",
   "execution_count": null,
   "id": "6bcba03e-7130-42bd-b68a-da8be05c5f43",
   "metadata": {},
   "outputs": [],
   "source": [
    "open('a.txt', 'a').close() # touch a.txt\n",
    "\n",
    "# remove first if the same name exists\n",
    "if os.path.exists('/tmp/a.txt'):\n",
    "    os.remove('/tmp/a.txt')\n",
    "\n",
    "shutil.move(\"a.txt\", \"/tmp\") # Move the file\n",
    "assert glob.glob(\"/tmp/a.txt\")[0]=='/tmp/a.txt'"
   ]
  },
  {
   "cell_type": "code",
   "execution_count": null,
   "id": "a475bb86-2031-47e0-a1dc-2128bf6e2146",
   "metadata": {},
   "outputs": [
    {
     "data": {
      "text/plain": [
       "['../data/frame_1728043212.jpg',\n",
       " '../data/frame_1728043403.jpg',\n",
       " '../data/frame_1728240209.jpg',\n",
       " '../data/frame_1727625655.jpg',\n",
       " '../data/frame_1728043225.jpg',\n",
       " '../data/frame_1728109783.jpg',\n",
       " '../data/frame_1728231053.jpg',\n",
       " '../data/frame_1728043194.jpg',\n",
       " '../data/frame_1728234908.jpg']"
      ]
     },
     "execution_count": null,
     "metadata": {},
     "output_type": "execute_result"
    }
   ],
   "source": [
    "files = glob.glob(\"../data/*.jpg\")\n",
    "files[:9]"
   ]
  },
  {
   "cell_type": "code",
   "execution_count": null,
   "id": "c7942b2b-33c1-4a4a-8630-c6b7295eec53",
   "metadata": {},
   "outputs": [
    {
     "name": "stdout",
     "output_type": "stream",
     "text": [
      "Resolution: 1280x720 (Width x Height)\n"
     ]
    }
   ],
   "source": [
    "with Image.open(files[0]) as img:\n",
    "    width, height = img.size\n",
    "\n",
    "print(f\"Resolution: {width}x{height} (Width x Height)\")"
   ]
  },
  {
   "cell_type": "code",
   "execution_count": null,
   "id": "8e2db7d7-68cb-4f77-8b17-7e52bbc35665",
   "metadata": {},
   "outputs": [],
   "source": [
    "#| export\n",
    "def res(fname):\n",
    "    \"\"\"return the resolution in a tuple\"\"\"\n",
    "    with Image.open(fname) as img:\n",
    "        w, h = img.size\n",
    "        return w, h\n",
    "\n",
    "def check_res(fname, reso):\n",
    "    \"\"\"check if its resolution is equal to 'reso'\"\"\"\n",
    "    if reso != res(fname):\n",
    "        return False\n",
    "    return True"
   ]
  },
  {
   "cell_type": "code",
   "execution_count": null,
   "id": "334684e2-fee8-4e59-a92f-140571714cc3",
   "metadata": {},
   "outputs": [],
   "source": [
    "assert check_res(files[0], (1280, 720))"
   ]
  },
  {
   "cell_type": "markdown",
   "id": "88d28506-8bc8-4606-a19a-871cd5820189",
   "metadata": {},
   "source": [
    "Remove files which resolutions are not equal to `1280x720`"
   ]
  },
  {
   "cell_type": "code",
   "execution_count": null,
   "id": "46af92cd-aab2-4632-a949-3e90eb1d9b6d",
   "metadata": {},
   "outputs": [
    {
     "name": "stdout",
     "output_type": "stream",
     "text": [
      "../data/frame_1728492912.jpg (500, 30)\n"
     ]
    }
   ],
   "source": [
    "for f in glob.glob(\"../data/*.jpg\"):\n",
    "    if check_res(f, (1280, 720)) == False:\n",
    "        print(f, res(f))\n",
    "        os.remove(f)"
   ]
  },
  {
   "cell_type": "code",
   "execution_count": null,
   "id": "9d6b1e9f-5255-4cd4-a12f-4c2e7d1b0818",
   "metadata": {},
   "outputs": [],
   "source": [
    "#| export\n",
    "def cleanup(files, resolution):\n",
    "    \"\"\"Remove files which are not equal to the specified resolution\"\"\"\n",
    "    for f in files:\n",
    "        if Path(f).exists() == False:\n",
    "            print(f'{f} doesn\\'t exists')\n",
    "            continue\n",
    "        if check_res(f, resolution) == False:\n",
    "            print(f, res(f))\n",
    "            os.remove(f)"
   ]
  },
  {
   "cell_type": "code",
   "execution_count": null,
   "id": "8b026be0-638e-4d9f-9bea-f0c5834669fa",
   "metadata": {},
   "outputs": [
    {
     "name": "stdout",
     "output_type": "stream",
     "text": [
      "../data/frame_1728492912.jpg doesn't exists\n"
     ]
    }
   ],
   "source": [
    "cleanup(files, (1280, 720))"
   ]
  }
 ],
 "metadata": {
  "kernelspec": {
   "display_name": "python3",
   "language": "python",
   "name": "python3"
  }
 },
 "nbformat": 4,
 "nbformat_minor": 5
}
