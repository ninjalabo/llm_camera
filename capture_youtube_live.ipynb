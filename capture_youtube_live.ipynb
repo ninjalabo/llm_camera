{
 "cells": [
  {
   "cell_type": "code",
   "execution_count": 4,
   "id": "07dad78f-c026-4ff6-86a0-fd19d95f98df",
   "metadata": {},
   "outputs": [],
   "source": [
    "import cv2\n",
    "import yt_dlp as youtube_dl  # Use yt-dlp instead of youtube-dl\n",
    "from IPython.display import Image, display  # For displaying image in Jupyter\n",
    "\n",
    "import schedule\n",
    "import time"
   ]
  },
  {
   "cell_type": "code",
   "execution_count": 30,
   "id": "c56d9143-ca88-4e30-a803-df616b218ec0",
   "metadata": {},
   "outputs": [],
   "source": [
    "def stream_url(youtube_url):\n",
    "    \"\"\"Extract live stream URL\"\"\"\n",
    "    with youtube_dl.YoutubeDL({'format': 'best'}) as ydl:\n",
    "        info = ydl.extract_info(youtube_url, download=False)\n",
    "        stream_url = info['url']\n",
    "    return stream_url\n",
    "\n",
    "def capture_frame(stream_url, crop_region=None):\n",
    "    \"\"\"Capture a frame from the live stream with cropped a region\"\"\"\n",
    "    cap = cv2.VideoCapture(stream_url)\n",
    "    if not cap.isOpened():\n",
    "        print(\"Error: Could not open video stream.\")\n",
    "        return None\n",
    "\n",
    "    ret, frame = cap.read()\n",
    "    if ret:\n",
    "        if crop_region:\n",
    "            x, y, w, h = crop_region\n",
    "            frame = frame[y:y+h, x:x+w]\n",
    "        path = \"frame_\" + str(int(time.time())) + \".jpg\"\n",
    "        cv2.imwrite(path, frame)\n",
    "        return path\n",
    "    else:\n",
    "        print(\"Error: Could not capture frame.\")\n",
    "        return None"
   ]
  },
  {
   "cell_type": "code",
   "execution_count": 33,
   "id": "bd973d5f-f532-44d1-942c-3563bd17b95f",
   "metadata": {},
   "outputs": [
    {
     "name": "stdout",
     "output_type": "stream",
     "text": [
      "[youtube] Extracting URL: https://www.youtube.com/watch?v=LMZQ7eFhm58\n",
      "[youtube] LMZQ7eFhm58: Downloading webpage\n",
      "[youtube] LMZQ7eFhm58: Downloading ios player API JSON\n",
      "[youtube] LMZQ7eFhm58: Downloading web creator player API JSON\n",
      "[youtube] LMZQ7eFhm58: Downloading m3u8 information\n",
      "[youtube] LMZQ7eFhm58: Downloading m3u8 information\n"
     ]
    }
   ],
   "source": [
    "url = stream_url(\"https://www.youtube.com/watch?v=LMZQ7eFhm58\")"
   ]
  },
  {
   "cell_type": "code",
   "execution_count": 36,
   "id": "1fee2742-beb2-4089-ba48-d01c2fe28968",
   "metadata": {},
   "outputs": [
    {
     "data": {
      "image/jpeg": "[encoded data removed]",
      "text/plain": [
       "<IPython.core.display.Image object>"
      ]
     },
     "metadata": {},
     "output_type": "display_data"
    }
   ],
   "source": [
    "display(Image(capture_frame(url, (0,0,500,30))))"
   ]
  },
  {
   "cell_type": "code",
   "execution_count": null,
   "id": "40e87d99-1fcd-419c-96df-8267f7763f05",
   "metadata": {},
   "outputs": [
    {
     "name": "stdout",
     "output_type": "stream",
     "text": [
      "0\n",
      "1\n",
      "2\n",
      "3\n",
      "4\n",
      "5\n",
      "6\n",
      "7\n",
      "8\n",
      "9\n",
      "10\n",
      "11\n",
      "12\n",
      "13\n",
      "14\n",
      "15\n",
      "16\n",
      "17\n",
      "18\n",
      "19\n"
     ]
    }
   ],
   "source": [
    "for i in range(20):\n",
    "    print(i)\n",
    "    capture_frame(url)\n",
    "    time.sleep(65)"
   ]
  },
  {
   "cell_type": "code",
   "execution_count": 46,
   "id": "85aa68ba-2ab4-4431-a0c6-a9e69ab2cb27",
   "metadata": {},
   "outputs": [
    {
     "name": "stdout",
     "output_type": "stream",
     "text": [
      "frame_1727528671.jpg  frame_1727529182.jpg  frame_1727529699.jpg\n",
      "frame_1727528736.jpg  frame_1727529253.jpg  frame_1727529763.jpg\n",
      "frame_1727528801.jpg  frame_1727529316.jpg  frame_1727529826.jpg\n",
      "frame_1727528865.jpg  frame_1727529380.jpg  frame_1727529890.jpg\n",
      "frame_1727528928.jpg  frame_1727529443.jpg  LICENSE\n",
      "frame_1727528992.jpg  frame_1727529507.jpg  README.md\n",
      "frame_1727529055.jpg  frame_1727529571.jpg  Untitled.ipynb\n",
      "frame_1727529119.jpg  frame_1727529636.jpg\n"
     ]
    }
   ],
   "source": [
    "!ls"
   ]
  },
  {
   "cell_type": "code",
   "execution_count": 128,
   "id": "21285586-f9b7-4b49-a28c-614715d1fd41",
   "metadata": {},
   "outputs": [
    {
     "name": "stdout",
     "output_type": "stream",
     "text": [
      "frame_1727529119.jpg: 2024-09-28 16:05:31 Olympiaterminaali\n",
      "frame_1727528928.jpg: 2024-09-28 16:02:21 Etelasatama\n",
      "frame_1727528801.jpg: 2024-09-28 16:00:11 Presidentinlinna\n",
      "frame_1727529380.jpg: 2024-09-28 16:09:51 Tuomiokirkko\n",
      "frame_1727528736.jpg: 2024-09-28 15:59:06 Presidentinlinna\n",
      "frame_1727529571.jpg: 2024-09-28 16:13:01 Kauppatori\n",
      "frame_1727529699.jpg: 2024-09-28 16:15:11 Presidentinlinna\n",
      "frame_1727529890.jpg: 2024-09-28 16:18:21 Etelasatama\n",
      "frame_1727529182.jpg: 2024-09-28 16:06:36 Olympiaterminaali\n",
      "frame_1727529253.jpg: 2024-09-28 16:07:41 Torni\n",
      "frame_1727528865.jpg: 2024-09-28 16:01:16 Etelasatama\n"
     ]
    }
   ],
   "source": [
    "from pathlib import Path\n",
    "from PIL import Image\n",
    "import pytesseract\n",
    "\n",
    "def datetime_and_place(image_path):\n",
    "    places = [\n",
    "        \"Olympiaterminaali\",\n",
    "        \"Etelasatama\",\n",
    "        \"Presidentinlinna\",\n",
    "        \"Tuomiokirkko\",\n",
    "        \"Kauppatori\",\n",
    "        \"Torni\",\n",
    "    ]\n",
    "    title_rectangle = (0,0,500,30)\n",
    "    image = Image.open(image_path).crop(title_rectangle)\n",
    "    text = pytesseract.image_to_string(image).strip()\n",
    "    date_obj = datetime.strptime(text[:19], \"%d.%m.%Y %H:%M:%S\")\n",
    "    for i, p in enumerate(places):\n",
    "        if p in text[20:]:\n",
    "            return date_obj, places[i]\n",
    "    \n",
    "for o in Path('.').glob('*.jpg'):\n",
    "    try:\n",
    "        datetime, place = datetime_and_place(o)\n",
    "        print(f\"{o.name}: {datetime} {place}\")\n",
    "    except:\n",
    "        print(f\"Removing {o.name}\")\n",
    "        o.unlink()"
   ]
  }
 ],
 "metadata": {
  "kernelspec": {
   "display_name": "Python 3 (ipykernel)",
   "language": "python",
   "name": "python3"
  },
  "language_info": {
   "codemirror_mode": {
    "name": "ipython",
    "version": 3
   },
   "file_extension": ".py",
   "mimetype": "text/x-python",
   "name": "python",
   "nbconvert_exporter": "python",
   "pygments_lexer": "ipython3",
   "version": "3.12.4"
  }
 },
 "nbformat": 4,
 "nbformat_minor": 5
}
